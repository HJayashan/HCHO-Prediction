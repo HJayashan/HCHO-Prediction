{
 "cells": [
  {
   "cell_type": "code",
   "execution_count": 1,
   "metadata": {},
   "outputs": [
    {
     "name": "stdout",
     "output_type": "stream",
     "text": [
      "Requirement already satisfied: pyspark in c:\\python312\\lib\\site-packages (3.5.1)\n",
      "Requirement already satisfied: py4j==0.10.9.7 in c:\\python312\\lib\\site-packages (from pyspark) (0.10.9.7)\n"
     ]
    }
   ],
   "source": [
    "!pip install pyspark"
   ]
  },
  {
   "cell_type": "markdown",
   "metadata": {},
   "source": [
    "# Initialize Spark Session"
   ]
  },
  {
   "cell_type": "code",
   "execution_count": 2,
   "metadata": {},
   "outputs": [],
   "source": [
    "from pyspark.sql import SparkSession"
   ]
  },
  {
   "cell_type": "code",
   "execution_count": 3,
   "metadata": {},
   "outputs": [
    {
     "data": {
      "text/html": [
       "\n",
       "            <div>\n",
       "                <p><b>SparkSession - in-memory</b></p>\n",
       "                \n",
       "        <div>\n",
       "            <p><b>SparkContext</b></p>\n",
       "\n",
       "            <p><a href=\"http://LAPTOP-D5NK5H0Q:4040\">Spark UI</a></p>\n",
       "\n",
       "            <dl>\n",
       "              <dt>Version</dt>\n",
       "                <dd><code>v3.5.1</code></dd>\n",
       "              <dt>Master</dt>\n",
       "                <dd><code>local[*]</code></dd>\n",
       "              <dt>AppName</dt>\n",
       "                <dd><code>HCHO Data Analysis</code></dd>\n",
       "            </dl>\n",
       "        </div>\n",
       "        \n",
       "            </div>\n",
       "        "
      ],
      "text/plain": [
       "<pyspark.sql.session.SparkSession at 0x124567fe000>"
      ]
     },
     "execution_count": 3,
     "metadata": {},
     "output_type": "execute_result"
    }
   ],
   "source": [
    "spark = SparkSession.builder \\\n",
    "    .appName(\"HCHO Data Analysis\") \\\n",
    "    .getOrCreate()\n",
    "    \n",
    "spark\n"
   ]
  },
  {
   "cell_type": "markdown",
   "metadata": {},
   "source": [
    "# Load the Data"
   ]
  },
  {
   "cell_type": "code",
   "execution_count": 4,
   "metadata": {},
   "outputs": [
    {
     "name": "stdout",
     "output_type": "stream",
     "text": [
      "+--------------------+--------------+----------+----------+\n",
      "|                 _c0|           _c1|       _c2|       _c3|\n",
      "+--------------------+--------------+----------+----------+\n",
      "|1.969834395781014...|Colombo Proper|2019-01-01|2019-01-02|\n",
      "|2.625522171968594...|Colombo Proper|2019-01-02|2019-01-03|\n",
      "|9.852118897938794E-5|Colombo Proper|2019-01-03|2019-01-04|\n",
      "|2.099320518114242E-4|Colombo Proper|2019-01-04|2019-01-05|\n",
      "|1.785337298892930...|Colombo Proper|2019-01-05|2019-01-06|\n",
      "|1.082296700235670...|Colombo Proper|2019-01-06|2019-01-07|\n",
      "|3.926829280477309...|Colombo Proper|2019-01-07|2019-01-08|\n",
      "|9.153156350685351E-5|Colombo Proper|2019-01-08|2019-01-09|\n",
      "|1.205978992853015...|Colombo Proper|2019-01-09|2019-01-10|\n",
      "|1.297723562983258...|Colombo Proper|2019-01-10|2019-01-11|\n",
      "|2.239188166801278...|Colombo Proper|2019-01-11|2019-01-12|\n",
      "|1.569418094178759...|Colombo Proper|2019-01-12|2019-01-13|\n",
      "|                NULL|Colombo Proper|2019-01-13|2019-01-14|\n",
      "|1.336291906862603...|Colombo Proper|2019-01-14|2019-01-15|\n",
      "|6.374417842690063E-5|Colombo Proper|2019-01-15|2019-01-16|\n",
      "|1.181062250815020...|Colombo Proper|2019-01-16|2019-01-17|\n",
      "|2.472555222423037...|Colombo Proper|2019-01-17|2019-01-18|\n",
      "|3.667525352047757E-5|Colombo Proper|2019-01-18|2019-01-19|\n",
      "|4.057500868150313E-4|Colombo Proper|2019-01-19|2019-01-20|\n",
      "|1.687856216479722...|Colombo Proper|2019-01-20|2019-01-21|\n",
      "+--------------------+--------------+----------+----------+\n",
      "only showing top 20 rows\n",
      "\n"
     ]
    }
   ],
   "source": [
    "col_mat_nuw_df = spark.read.csv('Dataset/col_mat_nuw_output.csv', header=None, inferSchema=True)\n",
    "col_mat_nuw_df.show()"
   ]
  },
  {
   "cell_type": "code",
   "execution_count": 5,
   "metadata": {},
   "outputs": [
    {
     "name": "stdout",
     "output_type": "stream",
     "text": [
      "root\n",
      " |-- _c0: double (nullable = true)\n",
      " |-- _c1: string (nullable = true)\n",
      " |-- _c2: date (nullable = true)\n",
      " |-- _c3: date (nullable = true)\n",
      "\n"
     ]
    }
   ],
   "source": [
    "col_mat_nuw_df.printSchema()"
   ]
  },
  {
   "cell_type": "code",
   "execution_count": 6,
   "metadata": {},
   "outputs": [
    {
     "name": "stdout",
     "output_type": "stream",
     "text": [
      "+--------------------+------------------+----------+----------+\n",
      "|                 _c0|               _c1|       _c2|       _c3|\n",
      "+--------------------+------------------+----------+----------+\n",
      "|                NULL|Bibile, Monaragala|2019-01-01|2019-01-02|\n",
      "|1.919914652467399E-5|Bibile, Monaragala|2019-01-02|2019-01-03|\n",
      "|2.811447935930283...|Bibile, Monaragala|2019-01-03|2019-01-04|\n",
      "|3.747998184385943E-5|Bibile, Monaragala|2019-01-04|2019-01-05|\n",
      "|-1.79826087934531...|Bibile, Monaragala|2019-01-05|2019-01-06|\n",
      "|1.457836896179902...|Bibile, Monaragala|2019-01-06|2019-01-07|\n",
      "|2.828590802546534...|Bibile, Monaragala|2019-01-07|2019-01-08|\n",
      "|                NULL|Bibile, Monaragala|2019-01-08|2019-01-09|\n",
      "|1.420850167050957...|Bibile, Monaragala|2019-01-09|2019-01-10|\n",
      "|                NULL|Bibile, Monaragala|2019-01-10|2019-01-11|\n",
      "|2.014587947072581E-5|Bibile, Monaragala|2019-01-11|2019-01-12|\n",
      "|1.582787663210183...|Bibile, Monaragala|2019-01-12|2019-01-13|\n",
      "|                NULL|Bibile, Monaragala|2019-01-13|2019-01-14|\n",
      "|                NULL|Bibile, Monaragala|2019-01-14|2019-01-15|\n",
      "|9.952823849642218E-5|Bibile, Monaragala|2019-01-15|2019-01-16|\n",
      "|7.484570960514249E-5|Bibile, Monaragala|2019-01-16|2019-01-17|\n",
      "|7.736112226328797E-5|Bibile, Monaragala|2019-01-17|2019-01-18|\n",
      "|                NULL|Bibile, Monaragala|2019-01-18|2019-01-19|\n",
      "|3.988141010407665...|Bibile, Monaragala|2019-01-19|2019-01-20|\n",
      "|1.891620203853342...|Bibile, Monaragala|2019-01-20|2019-01-21|\n",
      "+--------------------+------------------+----------+----------+\n",
      "only showing top 20 rows\n",
      "\n"
     ]
    }
   ],
   "source": [
    "mon_kur_jaf_df = spark.read.csv('Dataset/mon_kur_jaf_output.csv', header=None, inferSchema=True)\n",
    "mon_kur_jaf_df.show()"
   ]
  },
  {
   "cell_type": "code",
   "execution_count": 7,
   "metadata": {},
   "outputs": [
    {
     "name": "stdout",
     "output_type": "stream",
     "text": [
      "root\n",
      " |-- _c0: double (nullable = true)\n",
      " |-- _c1: string (nullable = true)\n",
      " |-- _c2: date (nullable = true)\n",
      " |-- _c3: date (nullable = true)\n",
      "\n"
     ]
    }
   ],
   "source": [
    "mon_kur_jaf_df.printSchema()"
   ]
  },
  {
   "cell_type": "code",
   "execution_count": 8,
   "metadata": {},
   "outputs": [
    {
     "name": "stdout",
     "output_type": "stream",
     "text": [
      "+--------------------+------------+----------+----------+\n",
      "|                 _c0|         _c1|       _c2|       _c3|\n",
      "+--------------------+------------+----------+----------+\n",
      "|1.760713459877335...|Kandy Proper|2019-01-01|2019-01-02|\n",
      "|9.220391253917748E-5|Kandy Proper|2019-01-02|2019-01-03|\n",
      "|                NULL|Kandy Proper|2019-01-03|2019-01-04|\n",
      "|1.908681983853839...|Kandy Proper|2019-01-04|2019-01-05|\n",
      "|1.219517840206744...|Kandy Proper|2019-01-05|2019-01-06|\n",
      "|-6.51408612938880...|Kandy Proper|2019-01-06|2019-01-07|\n",
      "|  1.6323820639265E-4|Kandy Proper|2019-01-07|2019-01-08|\n",
      "|-6.73520553391426...|Kandy Proper|2019-01-08|2019-01-09|\n",
      "|1.279693658243135...|Kandy Proper|2019-01-09|2019-01-10|\n",
      "|4.546048424126012E-5|Kandy Proper|2019-01-10|2019-01-11|\n",
      "|3.600074175192105E-5|Kandy Proper|2019-01-11|2019-01-12|\n",
      "|1.286629698010177E-4|Kandy Proper|2019-01-12|2019-01-13|\n",
      "|                NULL|Kandy Proper|2019-01-13|2019-01-14|\n",
      "|                NULL|Kandy Proper|2019-01-14|2019-01-15|\n",
      "| 9.63639634671553E-5|Kandy Proper|2019-01-15|2019-01-16|\n",
      "|                NULL|Kandy Proper|2019-01-16|2019-01-17|\n",
      "|1.200971278484736...|Kandy Proper|2019-01-17|2019-01-18|\n",
      "|-1.19724656713695...|Kandy Proper|2019-01-18|2019-01-19|\n",
      "|2.825263761529470...|Kandy Proper|2019-01-19|2019-01-20|\n",
      "|7.150631692646835E-5|Kandy Proper|2019-01-20|2019-01-21|\n",
      "+--------------------+------------+----------+----------+\n",
      "only showing top 20 rows\n",
      "\n"
     ]
    }
   ],
   "source": [
    "kan_df = spark.read.csv('Dataset/kan_output.csv', header=None, inferSchema=True)\n",
    "kan_df.show()"
   ]
  },
  {
   "cell_type": "code",
   "execution_count": 9,
   "metadata": {},
   "outputs": [
    {
     "name": "stdout",
     "output_type": "stream",
     "text": [
      "root\n",
      " |-- _c0: double (nullable = true)\n",
      " |-- _c1: string (nullable = true)\n",
      " |-- _c2: date (nullable = true)\n",
      " |-- _c3: date (nullable = true)\n",
      "\n"
     ]
    }
   ],
   "source": [
    "kan_df.printSchema()"
   ]
  },
  {
   "cell_type": "markdown",
   "metadata": {},
   "source": [
    "## Changing Header Names"
   ]
  },
  {
   "cell_type": "code",
   "execution_count": 10,
   "metadata": {},
   "outputs": [],
   "source": [
    "column_names = ['HCHO', 'Location', 'Current date', 'Next date']"
   ]
  },
  {
   "cell_type": "code",
   "execution_count": 11,
   "metadata": {},
   "outputs": [
    {
     "name": "stdout",
     "output_type": "stream",
     "text": [
      "+--------------------+--------------+------------+----------+\n",
      "|                HCHO|      Location|Current date| Next date|\n",
      "+--------------------+--------------+------------+----------+\n",
      "|1.969834395781014...|Colombo Proper|  2019-01-01|2019-01-02|\n",
      "|2.625522171968594...|Colombo Proper|  2019-01-02|2019-01-03|\n",
      "|9.852118897938794E-5|Colombo Proper|  2019-01-03|2019-01-04|\n",
      "|2.099320518114242E-4|Colombo Proper|  2019-01-04|2019-01-05|\n",
      "|1.785337298892930...|Colombo Proper|  2019-01-05|2019-01-06|\n",
      "|1.082296700235670...|Colombo Proper|  2019-01-06|2019-01-07|\n",
      "|3.926829280477309...|Colombo Proper|  2019-01-07|2019-01-08|\n",
      "|9.153156350685351E-5|Colombo Proper|  2019-01-08|2019-01-09|\n",
      "|1.205978992853015...|Colombo Proper|  2019-01-09|2019-01-10|\n",
      "|1.297723562983258...|Colombo Proper|  2019-01-10|2019-01-11|\n",
      "|2.239188166801278...|Colombo Proper|  2019-01-11|2019-01-12|\n",
      "|1.569418094178759...|Colombo Proper|  2019-01-12|2019-01-13|\n",
      "|                NULL|Colombo Proper|  2019-01-13|2019-01-14|\n",
      "|1.336291906862603...|Colombo Proper|  2019-01-14|2019-01-15|\n",
      "|6.374417842690063E-5|Colombo Proper|  2019-01-15|2019-01-16|\n",
      "|1.181062250815020...|Colombo Proper|  2019-01-16|2019-01-17|\n",
      "|2.472555222423037...|Colombo Proper|  2019-01-17|2019-01-18|\n",
      "|3.667525352047757E-5|Colombo Proper|  2019-01-18|2019-01-19|\n",
      "|4.057500868150313E-4|Colombo Proper|  2019-01-19|2019-01-20|\n",
      "|1.687856216479722...|Colombo Proper|  2019-01-20|2019-01-21|\n",
      "+--------------------+--------------+------------+----------+\n",
      "only showing top 20 rows\n",
      "\n"
     ]
    }
   ],
   "source": [
    "for i, new_name in enumerate(column_names):\n",
    "    col_mat_nuw_df = col_mat_nuw_df.withColumnRenamed(col_mat_nuw_df.columns[i], new_name)\n",
    "\n",
    "col_mat_nuw_df.show()"
   ]
  },
  {
   "cell_type": "code",
   "execution_count": 12,
   "metadata": {},
   "outputs": [
    {
     "name": "stdout",
     "output_type": "stream",
     "text": [
      "+--------------------+------------------+------------+----------+\n",
      "|                HCHO|          Location|Current date| Next date|\n",
      "+--------------------+------------------+------------+----------+\n",
      "|                NULL|Bibile, Monaragala|  2019-01-01|2019-01-02|\n",
      "|1.919914652467399E-5|Bibile, Monaragala|  2019-01-02|2019-01-03|\n",
      "|2.811447935930283...|Bibile, Monaragala|  2019-01-03|2019-01-04|\n",
      "|3.747998184385943E-5|Bibile, Monaragala|  2019-01-04|2019-01-05|\n",
      "|-1.79826087934531...|Bibile, Monaragala|  2019-01-05|2019-01-06|\n",
      "|1.457836896179902...|Bibile, Monaragala|  2019-01-06|2019-01-07|\n",
      "|2.828590802546534...|Bibile, Monaragala|  2019-01-07|2019-01-08|\n",
      "|                NULL|Bibile, Monaragala|  2019-01-08|2019-01-09|\n",
      "|1.420850167050957...|Bibile, Monaragala|  2019-01-09|2019-01-10|\n",
      "|                NULL|Bibile, Monaragala|  2019-01-10|2019-01-11|\n",
      "|2.014587947072581E-5|Bibile, Monaragala|  2019-01-11|2019-01-12|\n",
      "|1.582787663210183...|Bibile, Monaragala|  2019-01-12|2019-01-13|\n",
      "|                NULL|Bibile, Monaragala|  2019-01-13|2019-01-14|\n",
      "|                NULL|Bibile, Monaragala|  2019-01-14|2019-01-15|\n",
      "|9.952823849642218E-5|Bibile, Monaragala|  2019-01-15|2019-01-16|\n",
      "|7.484570960514249E-5|Bibile, Monaragala|  2019-01-16|2019-01-17|\n",
      "|7.736112226328797E-5|Bibile, Monaragala|  2019-01-17|2019-01-18|\n",
      "|                NULL|Bibile, Monaragala|  2019-01-18|2019-01-19|\n",
      "|3.988141010407665...|Bibile, Monaragala|  2019-01-19|2019-01-20|\n",
      "|1.891620203853342...|Bibile, Monaragala|  2019-01-20|2019-01-21|\n",
      "+--------------------+------------------+------------+----------+\n",
      "only showing top 20 rows\n",
      "\n"
     ]
    }
   ],
   "source": [
    "for i, new_name in enumerate(column_names):\n",
    "    mon_kur_jaf_df = mon_kur_jaf_df.withColumnRenamed(mon_kur_jaf_df.columns[i], new_name)\n",
    "\n",
    "mon_kur_jaf_df.show()"
   ]
  },
  {
   "cell_type": "code",
   "execution_count": 13,
   "metadata": {},
   "outputs": [
    {
     "name": "stdout",
     "output_type": "stream",
     "text": [
      "+--------------------+------------+------------+----------+\n",
      "|                HCHO|    Location|Current date| Next date|\n",
      "+--------------------+------------+------------+----------+\n",
      "|1.760713459877335...|Kandy Proper|  2019-01-01|2019-01-02|\n",
      "|9.220391253917748E-5|Kandy Proper|  2019-01-02|2019-01-03|\n",
      "|                NULL|Kandy Proper|  2019-01-03|2019-01-04|\n",
      "|1.908681983853839...|Kandy Proper|  2019-01-04|2019-01-05|\n",
      "|1.219517840206744...|Kandy Proper|  2019-01-05|2019-01-06|\n",
      "|-6.51408612938880...|Kandy Proper|  2019-01-06|2019-01-07|\n",
      "|  1.6323820639265E-4|Kandy Proper|  2019-01-07|2019-01-08|\n",
      "|-6.73520553391426...|Kandy Proper|  2019-01-08|2019-01-09|\n",
      "|1.279693658243135...|Kandy Proper|  2019-01-09|2019-01-10|\n",
      "|4.546048424126012E-5|Kandy Proper|  2019-01-10|2019-01-11|\n",
      "|3.600074175192105E-5|Kandy Proper|  2019-01-11|2019-01-12|\n",
      "|1.286629698010177E-4|Kandy Proper|  2019-01-12|2019-01-13|\n",
      "|                NULL|Kandy Proper|  2019-01-13|2019-01-14|\n",
      "|                NULL|Kandy Proper|  2019-01-14|2019-01-15|\n",
      "| 9.63639634671553E-5|Kandy Proper|  2019-01-15|2019-01-16|\n",
      "|                NULL|Kandy Proper|  2019-01-16|2019-01-17|\n",
      "|1.200971278484736...|Kandy Proper|  2019-01-17|2019-01-18|\n",
      "|-1.19724656713695...|Kandy Proper|  2019-01-18|2019-01-19|\n",
      "|2.825263761529470...|Kandy Proper|  2019-01-19|2019-01-20|\n",
      "|7.150631692646835E-5|Kandy Proper|  2019-01-20|2019-01-21|\n",
      "+--------------------+------------+------------+----------+\n",
      "only showing top 20 rows\n",
      "\n"
     ]
    }
   ],
   "source": [
    "for i, new_name in enumerate(column_names):\n",
    "    kan_df = kan_df.withColumnRenamed(kan_df.columns[i], new_name)\n",
    "\n",
    "kan_df.show()"
   ]
  },
  {
   "cell_type": "markdown",
   "metadata": {},
   "source": [
    "## Merge Datasets"
   ]
  },
  {
   "cell_type": "code",
   "execution_count": 14,
   "metadata": {},
   "outputs": [],
   "source": [
    "combined_df = col_mat_nuw_df.union(mon_kur_jaf_df).union(kan_df)\n"
   ]
  },
  {
   "cell_type": "code",
   "execution_count": 15,
   "metadata": {},
   "outputs": [
    {
     "name": "stdout",
     "output_type": "stream",
     "text": [
      "Number of rows: 12782\n",
      "Number of columns: 4\n"
     ]
    }
   ],
   "source": [
    "num_rows = combined_df.count()\n",
    "num_cols = len(combined_df.columns)\n",
    "\n",
    "print(f\"Number of rows: {num_rows}\")\n",
    "print(f\"Number of columns: {num_cols}\")\n"
   ]
  },
  {
   "cell_type": "code",
   "execution_count": 16,
   "metadata": {},
   "outputs": [
    {
     "name": "stdout",
     "output_type": "stream",
     "text": [
      "+-------+--------------------+-------------------+\n",
      "|summary|                HCHO|           Location|\n",
      "+-------+--------------------+-------------------+\n",
      "|  count|                7918|              12782|\n",
      "|   mean|1.192778916513748...|               NULL|\n",
      "| stddev|9.322341209771851E-5|               NULL|\n",
      "|    min|-3.52473024357239...| Bibile, Monaragala|\n",
      "|    max|8.997101837438971E-4|Nuwara Eliya Proper|\n",
      "+-------+--------------------+-------------------+\n",
      "\n"
     ]
    }
   ],
   "source": [
    "combined_df.describe().show()"
   ]
  },
  {
   "cell_type": "code",
   "execution_count": 17,
   "metadata": {},
   "outputs": [
    {
     "name": "stdout",
     "output_type": "stream",
     "text": [
      "+--------------------+--------------+------------+----------+\n",
      "|                HCHO|      Location|Current date| Next date|\n",
      "+--------------------+--------------+------------+----------+\n",
      "|1.969834395781014...|Colombo Proper|  2019-01-01|2019-01-02|\n",
      "|2.625522171968594...|Colombo Proper|  2019-01-02|2019-01-03|\n",
      "|9.852118897938794E-5|Colombo Proper|  2019-01-03|2019-01-04|\n",
      "|2.099320518114242E-4|Colombo Proper|  2019-01-04|2019-01-05|\n",
      "|1.785337298892930...|Colombo Proper|  2019-01-05|2019-01-06|\n",
      "|1.082296700235670...|Colombo Proper|  2019-01-06|2019-01-07|\n",
      "|3.926829280477309...|Colombo Proper|  2019-01-07|2019-01-08|\n",
      "|9.153156350685351E-5|Colombo Proper|  2019-01-08|2019-01-09|\n",
      "|1.205978992853015...|Colombo Proper|  2019-01-09|2019-01-10|\n",
      "|1.297723562983258...|Colombo Proper|  2019-01-10|2019-01-11|\n",
      "|2.239188166801278...|Colombo Proper|  2019-01-11|2019-01-12|\n",
      "|1.569418094178759...|Colombo Proper|  2019-01-12|2019-01-13|\n",
      "|                NULL|Colombo Proper|  2019-01-13|2019-01-14|\n",
      "|1.336291906862603...|Colombo Proper|  2019-01-14|2019-01-15|\n",
      "|6.374417842690063E-5|Colombo Proper|  2019-01-15|2019-01-16|\n",
      "|1.181062250815020...|Colombo Proper|  2019-01-16|2019-01-17|\n",
      "|2.472555222423037...|Colombo Proper|  2019-01-17|2019-01-18|\n",
      "|3.667525352047757E-5|Colombo Proper|  2019-01-18|2019-01-19|\n",
      "|4.057500868150313E-4|Colombo Proper|  2019-01-19|2019-01-20|\n",
      "|1.687856216479722...|Colombo Proper|  2019-01-20|2019-01-21|\n",
      "+--------------------+--------------+------------+----------+\n",
      "only showing top 20 rows\n",
      "\n"
     ]
    }
   ],
   "source": [
    "combined_df.show()"
   ]
  },
  {
   "cell_type": "code",
   "execution_count": 18,
   "metadata": {},
   "outputs": [
    {
     "name": "stdout",
     "output_type": "stream",
     "text": [
      "Pandas dataframe saved to Dataset/combined_df.csv\n"
     ]
    }
   ],
   "source": [
    "pandas_df = combined_df.toPandas()\n",
    "\n",
    "output = 'Dataset/combined_df.csv'\n",
    "\n",
    "pandas_df.to_csv(output, index=False)\n",
    "\n",
    "print(f\"Pandas dataframe saved to {output}\")"
   ]
  },
  {
   "cell_type": "markdown",
   "metadata": {},
   "source": [
    "# Cleaning the data"
   ]
  },
  {
   "cell_type": "markdown",
   "metadata": {},
   "source": [
    "## Duplicates"
   ]
  },
  {
   "cell_type": "code",
   "execution_count": 19,
   "metadata": {},
   "outputs": [
    {
     "name": "stdout",
     "output_type": "stream",
     "text": [
      "Total rows: 12782\n",
      "Distinct rows: 12782\n",
      "No duplicates found.\n"
     ]
    }
   ],
   "source": [
    "total_rows = combined_df.count()\n",
    "distinct_rows = combined_df.distinct().count()\n",
    "\n",
    "print(f\"Total rows: {total_rows}\")\n",
    "print(f\"Distinct rows: {distinct_rows}\")\n",
    "if total_rows > distinct_rows:\n",
    "    print(\"There are duplicates in the DataFrame.\")\n",
    "else:\n",
    "    print(\"No duplicates found.\")\n"
   ]
  },
  {
   "cell_type": "markdown",
   "metadata": {},
   "source": [
    "## Null values"
   ]
  },
  {
   "cell_type": "code",
   "execution_count": 20,
   "metadata": {},
   "outputs": [
    {
     "name": "stdout",
     "output_type": "stream",
     "text": [
      "+----+--------+------------+---------+\n",
      "|HCHO|Location|Current date|Next date|\n",
      "+----+--------+------------+---------+\n",
      "|4864|       0|           0|        0|\n",
      "+----+--------+------------+---------+\n",
      "\n"
     ]
    }
   ],
   "source": [
    "from pyspark.sql.functions import col, count, when, isnull\n",
    "\n",
    "null_counts = combined_df.select([count(when(isnull(c), c)).alias(c) for c in combined_df.columns])\n",
    "null_counts.show()\n"
   ]
  },
  {
   "cell_type": "code",
   "execution_count": 21,
   "metadata": {},
   "outputs": [
    {
     "data": {
      "image/png": "[encoded data removed]",
      "text/plain": [
       "<Figure size 640x480 with 1 Axes>"
      ]
     },
     "metadata": {},
     "output_type": "display_data"
    }
   ],
   "source": [
    "import matplotlib.pyplot as plt\n",
    "import pandas as pd\n",
    "\n",
    "pandas_df = combined_df.toPandas()\n",
    "\n",
    "plt.hist(pandas_df['HCHO'], bins=20, color='lightblue', edgecolor='black')\n",
    "\n",
    "plt.xlabel('Values')\n",
    "plt.ylabel('Frequency')\n",
    "plt.title('Histogram of HCHO')\n",
    "\n",
    "\n",
    "plt.show()\n"
   ]
  },
  {
   "cell_type": "code",
   "execution_count": 22,
   "metadata": {},
   "outputs": [],
   "source": [
    "from pyspark.sql import Window\n",
    "from pyspark.sql.functions import col, lag, coalesce, lead\n",
    "\n",
    "null_hcho_counts = combined_df.filter(col(\"HCHO\").isNull()).count()\n",
    "\n",
    "# continue until there are no nulls left\n",
    "while null_hcho_counts > 0:\n",
    "    # window specs\n",
    "    backward_windowSpec = Window.orderBy(\"Current Date\")\n",
    "    forward_windowSpec = Window.orderBy(\"Current Date\")\n",
    "    \n",
    "    #using lag to carry last observation forward\n",
    "    previous_value = lag(\"HCHO\", 1).over(backward_windowSpec)\n",
    "    combined_df = combined_df.withColumn(\"HCHO\", coalesce(\"HCHO\", previous_value))\n",
    "    \n",
    "    # using lead to carry next observation backward\n",
    "    next_value = lead(\"HCHO\", 1).over(forward_windowSpec)\n",
    "    combined_df = combined_df.withColumn(\"HCHO\", coalesce(\"HCHO\", next_value))\n",
    "    \n",
    "    #updating null counts\n",
    "    null_hcho_counts = combined_df.filter(col(\"HCHO\").isNull()).count()\n",
    "    "
   ]
  },
  {
   "cell_type": "code",
   "execution_count": 23,
   "metadata": {},
   "outputs": [
    {
     "name": "stdout",
     "output_type": "stream",
     "text": [
      "+----+--------+------------+---------+\n",
      "|HCHO|Location|Current date|Next date|\n",
      "+----+--------+------------+---------+\n",
      "|   0|       0|           0|        0|\n",
      "+----+--------+------------+---------+\n",
      "\n"
     ]
    }
   ],
   "source": [
    "null_counts = combined_df.select([count(when(isnull(c), c)).alias(c) for c in combined_df.columns])\n",
    "null_counts.show()"
   ]
  },
  {
   "cell_type": "code",
   "execution_count": 24,
   "metadata": {},
   "outputs": [
    {
     "name": "stdout",
     "output_type": "stream",
     "text": [
      "+--------------------+-------------------+------------+----------+\n",
      "|                HCHO|           Location|Current date| Next date|\n",
      "+--------------------+-------------------+------------+----------+\n",
      "|1.969834395781014...|     Colombo Proper|  2019-01-01|2019-01-02|\n",
      "|1.969834395781014...|   Deniyaya, Matara|  2019-01-01|2019-01-02|\n",
      "|1.969834395781014...|Nuwara Eliya Proper|  2019-01-01|2019-01-02|\n",
      "|8.829725542537962E-5| Bibile, Monaragala|  2019-01-01|2019-01-02|\n",
      "|8.829725542537962E-5|  Kurunegala Proper|  2019-01-01|2019-01-02|\n",
      "|5.830909719406619E-5|      Jaffna Proper|  2019-01-01|2019-01-02|\n",
      "|1.760713459877335...|       Kandy Proper|  2019-01-01|2019-01-02|\n",
      "|2.625522171968594...|     Colombo Proper|  2019-01-02|2019-01-03|\n",
      "|5.803530712000793E-6|   Deniyaya, Matara|  2019-01-02|2019-01-03|\n",
      "|5.803530712000793E-6|Nuwara Eliya Proper|  2019-01-02|2019-01-03|\n",
      "|1.919914652467399E-5| Bibile, Monaragala|  2019-01-02|2019-01-03|\n",
      "|1.370787402778218...|  Kurunegala Proper|  2019-01-02|2019-01-03|\n",
      "|1.017952795536237...|      Jaffna Proper|  2019-01-02|2019-01-03|\n",
      "|9.220391253917748E-5|       Kandy Proper|  2019-01-02|2019-01-03|\n",
      "|9.852118897938794E-5|     Colombo Proper|  2019-01-03|2019-01-04|\n",
      "|2.362357772653922...|   Deniyaya, Matara|  2019-01-03|2019-01-04|\n",
      "|1.908293886956784...|Nuwara Eliya Proper|  2019-01-03|2019-01-04|\n",
      "|2.811447935930283...| Bibile, Monaragala|  2019-01-03|2019-01-04|\n",
      "|1.480085027113037E-4|  Kurunegala Proper|  2019-01-03|2019-01-04|\n",
      "| 3.93133105404262E-5|      Jaffna Proper|  2019-01-03|2019-01-04|\n",
      "+--------------------+-------------------+------------+----------+\n",
      "only showing top 20 rows\n",
      "\n"
     ]
    }
   ],
   "source": [
    "combined_df.show()"
   ]
  },
  {
   "cell_type": "code",
   "execution_count": 25,
   "metadata": {},
   "outputs": [
    {
     "data": {
      "image/png": "[encoded data removed]",
      "text/plain": [
       "<Figure size 640x480 with 1 Axes>"
      ]
     },
     "metadata": {},
     "output_type": "display_data"
    }
   ],
   "source": [
    "pandas_df = combined_df.toPandas()\n",
    "\n",
    "plt.hist(pandas_df['HCHO'], bins=20, color='lightblue', edgecolor='black')\n",
    "\n",
    "plt.xlabel('Values')\n",
    "plt.ylabel('Frequency')\n",
    "plt.title('Histogram of HCHO')\n",
    "\n",
    "\n",
    "plt.show()"
   ]
  },
  {
   "cell_type": "code",
   "execution_count": 26,
   "metadata": {},
   "outputs": [
    {
     "name": "stdout",
     "output_type": "stream",
     "text": [
      "Pandas dataframe saved to Dataset/combined_df.csv\n"
     ]
    }
   ],
   "source": [
    "pandas_df = combined_df.toPandas()\n",
    "\n",
    "output = 'Dataset/combined_df.csv'\n",
    "\n",
    "pandas_df.to_csv(output, index=False)\n",
    "\n",
    "print(f\"Pandas dataframe saved to {output}\")"
   ]
  },
  {
   "cell_type": "markdown",
   "metadata": {},
   "source": [
    "## Outliers"
   ]
  },
  {
   "cell_type": "code",
   "execution_count": 32,
   "metadata": {},
   "outputs": [],
   "source": [
    "import seaborn as sns\n",
    "from pyspark.sql.functions import percentile_approx"
   ]
  },
  {
   "cell_type": "code",
   "execution_count": 28,
   "metadata": {},
   "outputs": [
    {
     "data": {
      "image/png": "[encoded data removed]",
      "text/plain": [
       "<Figure size 640x480 with 1 Axes>"
      ]
     },
     "metadata": {},
     "output_type": "display_data"
    }
   ],
   "source": [
    "sns.boxplot(x=pandas_df['HCHO'])\n",
    "plt.ylabel('HCHO Values')\n",
    "plt.title('Box plot of HCHO')\n",
    "\n",
    "plt.show()"
   ]
  },
  {
   "cell_type": "code",
   "execution_count": 33,
   "metadata": {},
   "outputs": [
    {
     "name": "stdout",
     "output_type": "stream",
     "text": [
      "Lower bound:-0.00011171971246543667\n",
      "Upper bound:0.0003442915300185279\n",
      "Number of outliers:  368\n"
     ]
    }
   ],
   "source": [
    "# calculate Q1, Q3 and IQR\n",
    "Q1 = pandas_df['HCHO'].quantile(0.25)\n",
    "Q3 = pandas_df['HCHO'].quantile(0.75)\n",
    "\n",
    "IQR = Q3 - Q1\n",
    "\n",
    "# define lower and upper bounds for outliers\n",
    "lower_bound = Q1 - 1.5 * IQR\n",
    "upper_bound = Q3 + 1.5 * IQR\n",
    "\n",
    "print(f\"Lower bound:{lower_bound}\")\n",
    "print(f\"Upper bound:{upper_bound}\")\n",
    "\n",
    "# identify outliers\n",
    "cleaned_df = pandas_df[(pandas_df['HCHO'] >= lower_bound) & (pandas_df['HCHO'] <= upper_bound)]\n",
    "\n",
    "# count the number of outliers\n",
    "num_outliers = len(pandas_df) - len(cleaned_df)\n",
    "print('Number of outliers: ', num_outliers)"
   ]
  },
  {
   "cell_type": "code",
   "execution_count": 34,
   "metadata": {},
   "outputs": [
    {
     "data": {
      "image/png": "[encoded data removed]",
      "text/plain": [
       "<Figure size 640x480 with 1 Axes>"
      ]
     },
     "metadata": {},
     "output_type": "display_data"
    }
   ],
   "source": [
    "sns.boxplot(x=cleaned_df['HCHO'])\n",
    "plt.ylabel('HCHO Values')\n",
    "plt.title('Box plot of HCHO')\n",
    "\n",
    "plt.show()"
   ]
  },
  {
   "cell_type": "code",
   "execution_count": null,
   "metadata": {},
   "outputs": [],
   "source": []
  }
 ],
 "metadata": {
  "kernelspec": {
   "display_name": "Python 3",
   "language": "python",
   "name": "python3"
  },
  "language_info": {
   "codemirror_mode": {
    "name": "ipython",
    "version": 3
   },
   "file_extension": ".py",
   "mimetype": "text/x-python",
   "name": "python",
   "nbconvert_exporter": "python",
   "pygments_lexer": "ipython3",
   "version": "3.12.0"
  }
 },
 "nbformat": 4,
 "nbformat_minor": 2
}
